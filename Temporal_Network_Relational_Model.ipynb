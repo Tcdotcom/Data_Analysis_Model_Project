{
 "cells": [
  {
   "cell_type": "code",
   "execution_count": 2,
   "id": "7be36d4a",
   "metadata": {},
   "outputs": [],
   "source": [
    "import pandas as pd \n",
    "import seaborn as sns\n",
    "import matplotlib\n",
    "import matplotlib.pyplot as plt\n",
    "import matplotlib.pylab as pylab\n",
    "from matplotlib import pyplot\n",
    "\n",
    "import sklearn\n",
    "from sklearn.preprocessing import StandardScaler\n",
    "from sklearn.preprocessing import LabelEncoder\n",
    "from sklearn.model_selection import train_test_split\n",
    "\n",
    "import torch\n",
    "import torch.nn as nn\n",
    "import torch.nn.functional as F\n",
    "from torch.utils.data import TensorDataset"
   ]
  },
  {
   "cell_type": "code",
   "execution_count": 3,
   "id": "b87bee7c",
   "metadata": {},
   "outputs": [],
   "source": [
    "# Sample data\n",
    "df = pd.read_csv(r\"C:\\Users\\weamone2\\Documents\\Graduate Courses\\Thesis\\Topic Search papers\\SampleDataSet.csv\")\n",
    "#print(\"Shape of dataframe is: {}\".format(df))"
   ]
  },
  {
   "cell_type": "code",
   "execution_count": 4,
   "id": "3378e90a",
   "metadata": {},
   "outputs": [],
   "source": [
    "# Preprocessing\n",
    "df_subset = df.copy()"
   ]
  },
  {
   "cell_type": "code",
   "execution_count": 5,
   "id": "773601ed",
   "metadata": {},
   "outputs": [
    {
     "data": {
      "text/plain": [
       "Index(['RowNumber', 'CustomerId', 'Surname', 'CreditScore', 'Geography',\n",
       "       'Gender', 'Age', 'Tenure', 'Balance', 'NumOfProducts', 'HasCrCard',\n",
       "       'IsActiveMember', 'EstimatedSalary', 'Exited', 'Complain',\n",
       "       'Satisfaction Score', 'Card Type', 'Point Earned'],\n",
       "      dtype='object')"
      ]
     },
     "execution_count": 5,
     "metadata": {},
     "output_type": "execute_result"
    }
   ],
   "source": [
    "df_subset.columns"
   ]
  },
  {
   "cell_type": "code",
   "execution_count": 6,
   "id": "de3bbc66",
   "metadata": {},
   "outputs": [
    {
     "data": {
      "text/plain": [
       "{int64: ['RowNumber', 'CustomerId', 'CreditScore', 'Age', 'Tenure', 'NumOfProducts', 'HasCrCard', 'IsActiveMember', 'Exited', 'Complain', 'Satisfaction Score', 'Point Earned'], float64: ['Balance', 'EstimatedSalary'], object: ['Surname', 'Geography', 'Gender', 'Card Type']}"
      ]
     },
     "execution_count": 6,
     "metadata": {},
     "output_type": "execute_result"
    }
   ],
   "source": [
    "df_subset.columns.to_series().groupby(df_subset.dtypes).groups"
   ]
  },
  {
   "cell_type": "code",
   "execution_count": 7,
   "id": "d67fe28c",
   "metadata": {},
   "outputs": [
    {
     "name": "stdout",
     "output_type": "stream",
     "text": [
      "1 columns were label encoded.\n",
      "Columns label encoded: []\n"
     ]
    }
   ],
   "source": [
    "# Create a label encoder object\n",
    "le = LabelEncoder()\n",
    "encoded_columns = []  # List to store columns that were label encoded\n",
    "\n",
    "# Label Encoding will be used for columns with 2 or less unique values\n",
    "le_count = 0\n",
    "for col in df_subset.columns[1:]:\n",
    "    if df_subset[col].dtype == 'object':\n",
    "        if len(list(df_subset[col].unique())) <= 2:\n",
    "            le.fit(df_subset[col])\n",
    "            df_subset[col] = le.transform(df_subset[col])\n",
    "            le_count += 1\n",
    "print('{} columns were label encoded.'.format(le_count))\n",
    "print('Columns label encoded:', encoded_columns)"
   ]
  },
  {
   "cell_type": "code",
   "execution_count": 8,
   "id": "b1cddfc2",
   "metadata": {},
   "outputs": [],
   "source": [
    "# Identify categorical and numerical columns\n",
    "categorical_cols = df_subset.select_dtypes(include=['object']).columns\n",
    "numerical_cols = df_subset.select_dtypes(include=['int32', 'int64', 'float64']).columns\n",
    "\n",
    "# Create dataframes for categorical and numerical columns\n",
    "df_categorical = df_subset[categorical_cols]\n",
    "df_numerical = df_subset[numerical_cols]"
   ]
  },
  {
   "cell_type": "code",
   "execution_count": 9,
   "id": "1051fea1",
   "metadata": {},
   "outputs": [
    {
     "ename": "NameError",
     "evalue": "name 'raw_X_seq' is not defined",
     "output_type": "error",
     "traceback": [
      "\u001b[1;31m---------------------------------------------------------------------------\u001b[0m",
      "\u001b[1;31mNameError\u001b[0m                                 Traceback (most recent call last)",
      "Cell \u001b[1;32mIn[9], line 5\u001b[0m\n\u001b[0;32m      2\u001b[0m \u001b[38;5;28;01mfrom\u001b[39;00m \u001b[38;5;21;01msklearn\u001b[39;00m\u001b[38;5;21;01m.\u001b[39;00m\u001b[38;5;21;01mpreprocessing\u001b[39;00m \u001b[38;5;28;01mimport\u001b[39;00m StandardScaler\n\u001b[0;32m      4\u001b[0m scaler_seq \u001b[38;5;241m=\u001b[39m StandardScaler()\n\u001b[1;32m----> 5\u001b[0m X_seq_scaled \u001b[38;5;241m=\u001b[39m scaler_seq\u001b[38;5;241m.\u001b[39mfit_transform(raw_X_seq)\n\u001b[0;32m      7\u001b[0m scaler_feat \u001b[38;5;241m=\u001b[39m StandardScaler()\n\u001b[0;32m      8\u001b[0m X_feat_scaled \u001b[38;5;241m=\u001b[39m scaler_feat\u001b[38;5;241m.\u001b[39mfit_transform(raw_X_feat)\n",
      "\u001b[1;31mNameError\u001b[0m: name 'raw_X_seq' is not defined"
     ]
    }
   ],
   "source": [
    "# Example: Scaling numeric features\n",
    "from sklearn.preprocessing import StandardScaler\n",
    "\n",
    "scaler_seq = StandardScaler()\n",
    "X_seq_scaled = scaler_seq.fit_transform(raw_X_seq)\n",
    "\n",
    "scaler_feat = StandardScaler()\n",
    "X_feat_scaled = scaler_feat.fit_transform(raw_X_feat)"
   ]
  },
  {
   "cell_type": "code",
   "execution_count": null,
   "id": "98abc795",
   "metadata": {},
   "outputs": [],
   "source": [
    "# Example: Encoding categorical variables (if applicable)\n",
    "from sklearn.preprocessing import LabelEncoder\n",
    "\n",
    "label_encoder = LabelEncoder()\n",
    "user_ids_encoded = label_encoder.fit_transform(raw_user_ids)\n",
    "item_ids_encoded = label_encoder.fit_transform(raw_item_ids)"
   ]
  },
  {
   "cell_type": "code",
   "execution_count": null,
   "id": "38eeb729",
   "metadata": {},
   "outputs": [],
   "source": [
    "# Example: Train-test split\n",
    "from sklearn.model_selection import train_test_split\n",
    "\n",
    "X_seq_train, X_seq_test, A_train_train, A_train_test, X_feat_train, X_feat_test, user_ids_train, user_ids_test, item_ids_train, item_ids_test, y_train, y_test = train_test_split(\n",
    "    X_seq_scaled, raw_A_train, X_feat_scaled, user_ids_encoded, item_ids_encoded, raw_y, test_size=0.2, random_state=42\n",
    ")\n"
   ]
  },
  {
   "cell_type": "code",
   "execution_count": null,
   "id": "5aa5df67",
   "metadata": {},
   "outputs": [],
   "source": [
    "# Instantiate TNRFinalModel\n",
    "rn_input_size = X_seq_train.shape[2]  # Adjust based on your sequence data\n",
    "gnn_input_size = X_feat_train.shape[1]  # Adjust based on your node features\n",
    "ncf_input_size = len(set(user_ids_train) | set(user_ids_test))  # Assuming all user IDs are present in both train and test sets\n",
    "hidden_size = 50\n",
    "output_size = 1  # Assuming binary classification\n",
    "\n",
    "tnr_model = TNRFinalModel(rn_input_size, gnn_input_size, ncf_input_size, hidden_size, output_size)"
   ]
  }
 ],
 "metadata": {
  "kernelspec": {
   "display_name": "Python 3 (ipykernel)",
   "language": "python",
   "name": "python3"
  },
  "language_info": {
   "codemirror_mode": {
    "name": "ipython",
    "version": 3
   },
   "file_extension": ".py",
   "mimetype": "text/x-python",
   "name": "python",
   "nbconvert_exporter": "python",
   "pygments_lexer": "ipython3",
   "version": "3.11.5"
  }
 },
 "nbformat": 4,
 "nbformat_minor": 5
}
